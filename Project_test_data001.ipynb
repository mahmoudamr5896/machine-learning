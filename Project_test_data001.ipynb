{
 "cells": [
  {
   "cell_type": "code",
   "execution_count": 1,
   "id": "98ac6f30",
   "metadata": {},
   "outputs": [],
   "source": [
    "import numpy as np\n",
    "import pandas as pd\n",
    "import matplotlib.pyplot as plt\n",
    "import seaborn as sns\n",
    "%matplotlib inline \n",
    "sns.set()"
   ]
  },
  {
   "cell_type": "code",
   "execution_count": 18,
   "id": "f98e1973",
   "metadata": {},
   "outputs": [],
   "source": [
    "data = pd.read_csv('test.csv')"
   ]
  },
  {
   "cell_type": "code",
   "execution_count": 14,
   "id": "cd09064c",
   "metadata": {},
   "outputs": [
    {
     "data": {
      "text/html": [
       "<div>\n",
       "<style scoped>\n",
       "    .dataframe tbody tr th:only-of-type {\n",
       "        vertical-align: middle;\n",
       "    }\n",
       "\n",
       "    .dataframe tbody tr th {\n",
       "        vertical-align: top;\n",
       "    }\n",
       "\n",
       "    .dataframe thead th {\n",
       "        text-align: right;\n",
       "    }\n",
       "</style>\n",
       "<table border=\"1\" class=\"dataframe\">\n",
       "  <thead>\n",
       "    <tr style=\"text-align: right;\">\n",
       "      <th></th>\n",
       "      <th>x</th>\n",
       "      <th>y</th>\n",
       "    </tr>\n",
       "  </thead>\n",
       "  <tbody>\n",
       "    <tr>\n",
       "      <th>0</th>\n",
       "      <td>77</td>\n",
       "      <td>79.775152</td>\n",
       "    </tr>\n",
       "    <tr>\n",
       "      <th>1</th>\n",
       "      <td>21</td>\n",
       "      <td>23.177279</td>\n",
       "    </tr>\n",
       "    <tr>\n",
       "      <th>2</th>\n",
       "      <td>22</td>\n",
       "      <td>25.609262</td>\n",
       "    </tr>\n",
       "    <tr>\n",
       "      <th>3</th>\n",
       "      <td>20</td>\n",
       "      <td>17.857388</td>\n",
       "    </tr>\n",
       "    <tr>\n",
       "      <th>4</th>\n",
       "      <td>36</td>\n",
       "      <td>41.849864</td>\n",
       "    </tr>\n",
       "    <tr>\n",
       "      <th>...</th>\n",
       "      <td>...</td>\n",
       "      <td>...</td>\n",
       "    </tr>\n",
       "    <tr>\n",
       "      <th>295</th>\n",
       "      <td>71</td>\n",
       "      <td>68.545888</td>\n",
       "    </tr>\n",
       "    <tr>\n",
       "      <th>296</th>\n",
       "      <td>46</td>\n",
       "      <td>47.334876</td>\n",
       "    </tr>\n",
       "    <tr>\n",
       "      <th>297</th>\n",
       "      <td>55</td>\n",
       "      <td>54.090637</td>\n",
       "    </tr>\n",
       "    <tr>\n",
       "      <th>298</th>\n",
       "      <td>62</td>\n",
       "      <td>63.297171</td>\n",
       "    </tr>\n",
       "    <tr>\n",
       "      <th>299</th>\n",
       "      <td>47</td>\n",
       "      <td>52.459467</td>\n",
       "    </tr>\n",
       "  </tbody>\n",
       "</table>\n",
       "<p>300 rows × 2 columns</p>\n",
       "</div>"
      ],
      "text/plain": [
       "      x          y\n",
       "0    77  79.775152\n",
       "1    21  23.177279\n",
       "2    22  25.609262\n",
       "3    20  17.857388\n",
       "4    36  41.849864\n",
       "..   ..        ...\n",
       "295  71  68.545888\n",
       "296  46  47.334876\n",
       "297  55  54.090637\n",
       "298  62  63.297171\n",
       "299  47  52.459467\n",
       "\n",
       "[300 rows x 2 columns]"
      ]
     },
     "execution_count": 14,
     "metadata": {},
     "output_type": "execute_result"
    }
   ],
   "source": [
    "data"
   ]
  },
  {
   "cell_type": "code",
   "execution_count": 5,
   "id": "60e817ed",
   "metadata": {},
   "outputs": [
    {
     "name": "stdout",
     "output_type": "stream",
     "text": [
      "<class 'pandas.core.frame.DataFrame'>\n",
      "RangeIndex: 300 entries, 0 to 299\n",
      "Data columns (total 2 columns):\n",
      " #   Column  Non-Null Count  Dtype  \n",
      "---  ------  --------------  -----  \n",
      " 0   x       300 non-null    int64  \n",
      " 1   y       300 non-null    float64\n",
      "dtypes: float64(1), int64(1)\n",
      "memory usage: 4.8 KB\n"
     ]
    }
   ],
   "source": [
    "data.info()"
   ]
  },
  {
   "cell_type": "code",
   "execution_count": 4,
   "id": "1a961573",
   "metadata": {},
   "outputs": [],
   "source": [
    "from sklearn.preprocessing import StandardScaler\n",
    "sc = StandardScaler()\n"
   ]
  },
  {
   "cell_type": "code",
   "execution_count": 9,
   "id": "236e6c74",
   "metadata": {},
   "outputs": [],
   "source": [
    " data = sc.fit_transform(data)"
   ]
  },
  {
   "cell_type": "code",
   "execution_count": 21,
   "id": "0797ccb6",
   "metadata": {},
   "outputs": [
    {
     "ename": "AttributeError",
     "evalue": "'DataFrame' object has no attribute 'reshape'",
     "output_type": "error",
     "traceback": [
      "\u001b[1;31m---------------------------------------------------------------------------\u001b[0m",
      "\u001b[1;31mAttributeError\u001b[0m                            Traceback (most recent call last)",
      "\u001b[1;32m~\\AppData\\Local\\Temp\\ipykernel_18216\\1725176514.py\u001b[0m in \u001b[0;36m<module>\u001b[1;34m\u001b[0m\n\u001b[1;32m----> 1\u001b[1;33m \u001b[0mdata\u001b[0m\u001b[1;33m.\u001b[0m\u001b[0mreshape\u001b[0m\u001b[1;33m(\u001b[0m\u001b[1;33m-\u001b[0m\u001b[1;36m1\u001b[0m\u001b[1;33m,\u001b[0m \u001b[1;36m1\u001b[0m\u001b[1;33m)\u001b[0m\u001b[1;33m\u001b[0m\u001b[1;33m\u001b[0m\u001b[0m\n\u001b[0m",
      "\u001b[1;32m~\\anaconda3\\lib\\site-packages\\pandas\\core\\generic.py\u001b[0m in \u001b[0;36m__getattr__\u001b[1;34m(self, name)\u001b[0m\n\u001b[0;32m   5573\u001b[0m         ):\n\u001b[0;32m   5574\u001b[0m             \u001b[1;32mreturn\u001b[0m \u001b[0mself\u001b[0m\u001b[1;33m[\u001b[0m\u001b[0mname\u001b[0m\u001b[1;33m]\u001b[0m\u001b[1;33m\u001b[0m\u001b[1;33m\u001b[0m\u001b[0m\n\u001b[1;32m-> 5575\u001b[1;33m         \u001b[1;32mreturn\u001b[0m \u001b[0mobject\u001b[0m\u001b[1;33m.\u001b[0m\u001b[0m__getattribute__\u001b[0m\u001b[1;33m(\u001b[0m\u001b[0mself\u001b[0m\u001b[1;33m,\u001b[0m \u001b[0mname\u001b[0m\u001b[1;33m)\u001b[0m\u001b[1;33m\u001b[0m\u001b[1;33m\u001b[0m\u001b[0m\n\u001b[0m\u001b[0;32m   5576\u001b[0m \u001b[1;33m\u001b[0m\u001b[0m\n\u001b[0;32m   5577\u001b[0m     \u001b[1;32mdef\u001b[0m \u001b[0m__setattr__\u001b[0m\u001b[1;33m(\u001b[0m\u001b[0mself\u001b[0m\u001b[1;33m,\u001b[0m \u001b[0mname\u001b[0m\u001b[1;33m:\u001b[0m \u001b[0mstr\u001b[0m\u001b[1;33m,\u001b[0m \u001b[0mvalue\u001b[0m\u001b[1;33m)\u001b[0m \u001b[1;33m->\u001b[0m \u001b[1;32mNone\u001b[0m\u001b[1;33m:\u001b[0m\u001b[1;33m\u001b[0m\u001b[1;33m\u001b[0m\u001b[0m\n",
      "\u001b[1;31mAttributeError\u001b[0m: 'DataFrame' object has no attribute 'reshape'"
     ]
    }
   ],
   "source": [
    "data.reshape(-1, 1)"
   ]
  },
  {
   "cell_type": "code",
   "execution_count": 19,
   "id": "35e32f8f",
   "metadata": {},
   "outputs": [
    {
     "ename": "ValueError",
     "evalue": "Expected 2D array, got 1D array instead:\narray=[ 77.  21.  22.  20.  36.  15.  62.  95.  20.   5.   4.  19.  96.  62.\n  36.  15.  65.  14.  87.  69.  89.  51.  89.  27.  97.  58.  79.  21.\n  93.  27.  99.  31.  33.  80.  28.  47.  53.  69.  28.  33.  91.  71.\n  50.  76.   4.  37.  70.  68.  40.  35.  94.  88.  52.  31.  59.   0.\n  39.  64.  69.  57.  13.  72.  76.  61.  82.  18.  41.  50.  55.  13.\n  46.  13.  79.  53.  15.  28.  81.  69.  52.  84.  68.  27.  56.  48.\n  40.  39.  82. 100.  59.  43.  67.  38.  63.  91.  60.  14.  21.  87.\n  73.  32.   2.  82.  19.  74.  42.  12.   1.  90.  89.   0.  41.  16.\n  94.  97.  66.  24.  17.  90.  13.   0.  64.  96.  98.  12.  41.  47.\n  78.  20.  89.  29.  64.  75.  12.  25.  28.  30.  65.  59.  64.  53.\n  71.  97.  73.   9.  12.  63.  99.  60.  35.   2.  60.  32.  94.  84.\n  63.  22.  81.  93.  33.   7.  42.  46.  54.  16.  49.  43.  95.  66.\n  21.  35.  80.  37.  54.  56.   1.  32.  58.  32.  46.  72.  17.  97.\n  93.  91.  37.   4.  54.  51.  27.  46.  92.  73.  77.  91.  61.  99.\n   4.  72.  19.  57.  78.  26.  74.  90.  66.  13.  40.  77.  67.  75.\n  23.  45.  59.  44.  23.  55.  55.  95.  12.   4.   7. 100.  48.  42.\n  96.  39. 100.  87.  14.  14.  37.   5.  88.  91.  65.  74.  56.  16.\n   5.  28.  92.  46.  54.  39.  44.  31.  68.  86.  90.  38.  21.  95.\n  56.  60.  65.  78.  89.   6.  67.  36.  16. 100.  45.  73.  57.  20.\n  76.  34.  55.  72.  55.   8.  56.  72.  58.   6.  96.  23.  58.  23.\n  19.  25.  64.  21.  59.  19.  16.  42.  43.  61.  92.  11.  41.   1.\n   8.  71.  46.  55.  62.  47.].\nReshape your data either using array.reshape(-1, 1) if your data has a single feature or array.reshape(1, -1) if it contains a single sample.",
     "output_type": "error",
     "traceback": [
      "\u001b[1;31m---------------------------------------------------------------------------\u001b[0m",
      "\u001b[1;31mValueError\u001b[0m                                Traceback (most recent call last)",
      "\u001b[1;32m~\\AppData\\Local\\Temp\\ipykernel_18216\\349727743.py\u001b[0m in \u001b[0;36m<module>\u001b[1;34m\u001b[0m\n\u001b[1;32m----> 1\u001b[1;33m \u001b[0mX\u001b[0m \u001b[1;33m=\u001b[0m \u001b[0msc\u001b[0m\u001b[1;33m.\u001b[0m\u001b[0mfit_transform\u001b[0m\u001b[1;33m(\u001b[0m\u001b[0mdata\u001b[0m\u001b[1;33m[\u001b[0m\u001b[1;34m'x'\u001b[0m\u001b[1;33m]\u001b[0m\u001b[1;33m)\u001b[0m\u001b[1;33m\u001b[0m\u001b[1;33m\u001b[0m\u001b[0m\n\u001b[0m\u001b[0;32m      2\u001b[0m \u001b[0mX\u001b[0m\u001b[1;33m\u001b[0m\u001b[1;33m\u001b[0m\u001b[0m\n",
      "\u001b[1;32m~\\anaconda3\\lib\\site-packages\\sklearn\\base.py\u001b[0m in \u001b[0;36mfit_transform\u001b[1;34m(self, X, y, **fit_params)\u001b[0m\n\u001b[0;32m    850\u001b[0m         \u001b[1;32mif\u001b[0m \u001b[0my\u001b[0m \u001b[1;32mis\u001b[0m \u001b[1;32mNone\u001b[0m\u001b[1;33m:\u001b[0m\u001b[1;33m\u001b[0m\u001b[1;33m\u001b[0m\u001b[0m\n\u001b[0;32m    851\u001b[0m             \u001b[1;31m# fit method of arity 1 (unsupervised transformation)\u001b[0m\u001b[1;33m\u001b[0m\u001b[1;33m\u001b[0m\u001b[0m\n\u001b[1;32m--> 852\u001b[1;33m             \u001b[1;32mreturn\u001b[0m \u001b[0mself\u001b[0m\u001b[1;33m.\u001b[0m\u001b[0mfit\u001b[0m\u001b[1;33m(\u001b[0m\u001b[0mX\u001b[0m\u001b[1;33m,\u001b[0m \u001b[1;33m**\u001b[0m\u001b[0mfit_params\u001b[0m\u001b[1;33m)\u001b[0m\u001b[1;33m.\u001b[0m\u001b[0mtransform\u001b[0m\u001b[1;33m(\u001b[0m\u001b[0mX\u001b[0m\u001b[1;33m)\u001b[0m\u001b[1;33m\u001b[0m\u001b[1;33m\u001b[0m\u001b[0m\n\u001b[0m\u001b[0;32m    853\u001b[0m         \u001b[1;32melse\u001b[0m\u001b[1;33m:\u001b[0m\u001b[1;33m\u001b[0m\u001b[1;33m\u001b[0m\u001b[0m\n\u001b[0;32m    854\u001b[0m             \u001b[1;31m# fit method of arity 2 (supervised transformation)\u001b[0m\u001b[1;33m\u001b[0m\u001b[1;33m\u001b[0m\u001b[0m\n",
      "\u001b[1;32m~\\anaconda3\\lib\\site-packages\\sklearn\\preprocessing\\_data.py\u001b[0m in \u001b[0;36mfit\u001b[1;34m(self, X, y, sample_weight)\u001b[0m\n\u001b[0;32m    804\u001b[0m         \u001b[1;31m# Reset internal state before fitting\u001b[0m\u001b[1;33m\u001b[0m\u001b[1;33m\u001b[0m\u001b[0m\n\u001b[0;32m    805\u001b[0m         \u001b[0mself\u001b[0m\u001b[1;33m.\u001b[0m\u001b[0m_reset\u001b[0m\u001b[1;33m(\u001b[0m\u001b[1;33m)\u001b[0m\u001b[1;33m\u001b[0m\u001b[1;33m\u001b[0m\u001b[0m\n\u001b[1;32m--> 806\u001b[1;33m         \u001b[1;32mreturn\u001b[0m \u001b[0mself\u001b[0m\u001b[1;33m.\u001b[0m\u001b[0mpartial_fit\u001b[0m\u001b[1;33m(\u001b[0m\u001b[0mX\u001b[0m\u001b[1;33m,\u001b[0m \u001b[0my\u001b[0m\u001b[1;33m,\u001b[0m \u001b[0msample_weight\u001b[0m\u001b[1;33m)\u001b[0m\u001b[1;33m\u001b[0m\u001b[1;33m\u001b[0m\u001b[0m\n\u001b[0m\u001b[0;32m    807\u001b[0m \u001b[1;33m\u001b[0m\u001b[0m\n\u001b[0;32m    808\u001b[0m     \u001b[1;32mdef\u001b[0m \u001b[0mpartial_fit\u001b[0m\u001b[1;33m(\u001b[0m\u001b[0mself\u001b[0m\u001b[1;33m,\u001b[0m \u001b[0mX\u001b[0m\u001b[1;33m,\u001b[0m \u001b[0my\u001b[0m\u001b[1;33m=\u001b[0m\u001b[1;32mNone\u001b[0m\u001b[1;33m,\u001b[0m \u001b[0msample_weight\u001b[0m\u001b[1;33m=\u001b[0m\u001b[1;32mNone\u001b[0m\u001b[1;33m)\u001b[0m\u001b[1;33m:\u001b[0m\u001b[1;33m\u001b[0m\u001b[1;33m\u001b[0m\u001b[0m\n",
      "\u001b[1;32m~\\anaconda3\\lib\\site-packages\\sklearn\\preprocessing\\_data.py\u001b[0m in \u001b[0;36mpartial_fit\u001b[1;34m(self, X, y, sample_weight)\u001b[0m\n\u001b[0;32m    839\u001b[0m         \"\"\"\n\u001b[0;32m    840\u001b[0m         \u001b[0mfirst_call\u001b[0m \u001b[1;33m=\u001b[0m \u001b[1;32mnot\u001b[0m \u001b[0mhasattr\u001b[0m\u001b[1;33m(\u001b[0m\u001b[0mself\u001b[0m\u001b[1;33m,\u001b[0m \u001b[1;34m\"n_samples_seen_\"\u001b[0m\u001b[1;33m)\u001b[0m\u001b[1;33m\u001b[0m\u001b[1;33m\u001b[0m\u001b[0m\n\u001b[1;32m--> 841\u001b[1;33m         X = self._validate_data(\n\u001b[0m\u001b[0;32m    842\u001b[0m             \u001b[0mX\u001b[0m\u001b[1;33m,\u001b[0m\u001b[1;33m\u001b[0m\u001b[1;33m\u001b[0m\u001b[0m\n\u001b[0;32m    843\u001b[0m             \u001b[0maccept_sparse\u001b[0m\u001b[1;33m=\u001b[0m\u001b[1;33m(\u001b[0m\u001b[1;34m\"csr\"\u001b[0m\u001b[1;33m,\u001b[0m \u001b[1;34m\"csc\"\u001b[0m\u001b[1;33m)\u001b[0m\u001b[1;33m,\u001b[0m\u001b[1;33m\u001b[0m\u001b[1;33m\u001b[0m\u001b[0m\n",
      "\u001b[1;32m~\\anaconda3\\lib\\site-packages\\sklearn\\base.py\u001b[0m in \u001b[0;36m_validate_data\u001b[1;34m(self, X, y, reset, validate_separately, **check_params)\u001b[0m\n\u001b[0;32m    564\u001b[0m             \u001b[1;32mraise\u001b[0m \u001b[0mValueError\u001b[0m\u001b[1;33m(\u001b[0m\u001b[1;34m\"Validation should be done on X, y or both.\"\u001b[0m\u001b[1;33m)\u001b[0m\u001b[1;33m\u001b[0m\u001b[1;33m\u001b[0m\u001b[0m\n\u001b[0;32m    565\u001b[0m         \u001b[1;32melif\u001b[0m \u001b[1;32mnot\u001b[0m \u001b[0mno_val_X\u001b[0m \u001b[1;32mand\u001b[0m \u001b[0mno_val_y\u001b[0m\u001b[1;33m:\u001b[0m\u001b[1;33m\u001b[0m\u001b[1;33m\u001b[0m\u001b[0m\n\u001b[1;32m--> 566\u001b[1;33m             \u001b[0mX\u001b[0m \u001b[1;33m=\u001b[0m \u001b[0mcheck_array\u001b[0m\u001b[1;33m(\u001b[0m\u001b[0mX\u001b[0m\u001b[1;33m,\u001b[0m \u001b[1;33m**\u001b[0m\u001b[0mcheck_params\u001b[0m\u001b[1;33m)\u001b[0m\u001b[1;33m\u001b[0m\u001b[1;33m\u001b[0m\u001b[0m\n\u001b[0m\u001b[0;32m    567\u001b[0m             \u001b[0mout\u001b[0m \u001b[1;33m=\u001b[0m \u001b[0mX\u001b[0m\u001b[1;33m\u001b[0m\u001b[1;33m\u001b[0m\u001b[0m\n\u001b[0;32m    568\u001b[0m         \u001b[1;32melif\u001b[0m \u001b[0mno_val_X\u001b[0m \u001b[1;32mand\u001b[0m \u001b[1;32mnot\u001b[0m \u001b[0mno_val_y\u001b[0m\u001b[1;33m:\u001b[0m\u001b[1;33m\u001b[0m\u001b[1;33m\u001b[0m\u001b[0m\n",
      "\u001b[1;32m~\\anaconda3\\lib\\site-packages\\sklearn\\utils\\validation.py\u001b[0m in \u001b[0;36mcheck_array\u001b[1;34m(array, accept_sparse, accept_large_sparse, dtype, order, copy, force_all_finite, ensure_2d, allow_nd, ensure_min_samples, ensure_min_features, estimator)\u001b[0m\n\u001b[0;32m    767\u001b[0m             \u001b[1;31m# If input is 1D raise error\u001b[0m\u001b[1;33m\u001b[0m\u001b[1;33m\u001b[0m\u001b[0m\n\u001b[0;32m    768\u001b[0m             \u001b[1;32mif\u001b[0m \u001b[0marray\u001b[0m\u001b[1;33m.\u001b[0m\u001b[0mndim\u001b[0m \u001b[1;33m==\u001b[0m \u001b[1;36m1\u001b[0m\u001b[1;33m:\u001b[0m\u001b[1;33m\u001b[0m\u001b[1;33m\u001b[0m\u001b[0m\n\u001b[1;32m--> 769\u001b[1;33m                 raise ValueError(\n\u001b[0m\u001b[0;32m    770\u001b[0m                     \u001b[1;34m\"Expected 2D array, got 1D array instead:\\narray={}.\\n\"\u001b[0m\u001b[1;33m\u001b[0m\u001b[1;33m\u001b[0m\u001b[0m\n\u001b[0;32m    771\u001b[0m                     \u001b[1;34m\"Reshape your data either using array.reshape(-1, 1) if \"\u001b[0m\u001b[1;33m\u001b[0m\u001b[1;33m\u001b[0m\u001b[0m\n",
      "\u001b[1;31mValueError\u001b[0m: Expected 2D array, got 1D array instead:\narray=[ 77.  21.  22.  20.  36.  15.  62.  95.  20.   5.   4.  19.  96.  62.\n  36.  15.  65.  14.  87.  69.  89.  51.  89.  27.  97.  58.  79.  21.\n  93.  27.  99.  31.  33.  80.  28.  47.  53.  69.  28.  33.  91.  71.\n  50.  76.   4.  37.  70.  68.  40.  35.  94.  88.  52.  31.  59.   0.\n  39.  64.  69.  57.  13.  72.  76.  61.  82.  18.  41.  50.  55.  13.\n  46.  13.  79.  53.  15.  28.  81.  69.  52.  84.  68.  27.  56.  48.\n  40.  39.  82. 100.  59.  43.  67.  38.  63.  91.  60.  14.  21.  87.\n  73.  32.   2.  82.  19.  74.  42.  12.   1.  90.  89.   0.  41.  16.\n  94.  97.  66.  24.  17.  90.  13.   0.  64.  96.  98.  12.  41.  47.\n  78.  20.  89.  29.  64.  75.  12.  25.  28.  30.  65.  59.  64.  53.\n  71.  97.  73.   9.  12.  63.  99.  60.  35.   2.  60.  32.  94.  84.\n  63.  22.  81.  93.  33.   7.  42.  46.  54.  16.  49.  43.  95.  66.\n  21.  35.  80.  37.  54.  56.   1.  32.  58.  32.  46.  72.  17.  97.\n  93.  91.  37.   4.  54.  51.  27.  46.  92.  73.  77.  91.  61.  99.\n   4.  72.  19.  57.  78.  26.  74.  90.  66.  13.  40.  77.  67.  75.\n  23.  45.  59.  44.  23.  55.  55.  95.  12.   4.   7. 100.  48.  42.\n  96.  39. 100.  87.  14.  14.  37.   5.  88.  91.  65.  74.  56.  16.\n   5.  28.  92.  46.  54.  39.  44.  31.  68.  86.  90.  38.  21.  95.\n  56.  60.  65.  78.  89.   6.  67.  36.  16. 100.  45.  73.  57.  20.\n  76.  34.  55.  72.  55.   8.  56.  72.  58.   6.  96.  23.  58.  23.\n  19.  25.  64.  21.  59.  19.  16.  42.  43.  61.  92.  11.  41.   1.\n   8.  71.  46.  55.  62.  47.].\nReshape your data either using array.reshape(-1, 1) if your data has a single feature or array.reshape(1, -1) if it contains a single sample."
     ]
    }
   ],
   "source": [
    "X = sc.fit_transform(data)\n",
    "X"
   ]
  },
  {
   "cell_type": "code",
   "execution_count": null,
   "id": "df1c3c9f",
   "metadata": {},
   "outputs": [],
   "source": []
  },
  {
   "cell_type": "code",
   "execution_count": null,
   "id": "cdcaa353",
   "metadata": {},
   "outputs": [],
   "source": []
  },
  {
   "cell_type": "code",
   "execution_count": null,
   "id": "5c63b868",
   "metadata": {},
   "outputs": [],
   "source": []
  },
  {
   "cell_type": "code",
   "execution_count": null,
   "id": "6d649349",
   "metadata": {},
   "outputs": [],
   "source": []
  },
  {
   "cell_type": "code",
   "execution_count": 25,
   "id": "033fabe7",
   "metadata": {},
   "outputs": [
    {
     "ename": "TypeError",
     "evalue": "reshape() takes exactly 1 argument (0 given)",
     "output_type": "error",
     "traceback": [
      "\u001b[1;31m---------------------------------------------------------------------------\u001b[0m",
      "\u001b[1;31mTypeError\u001b[0m                                 Traceback (most recent call last)",
      "\u001b[1;32m~\\AppData\\Local\\Temp\\ipykernel_18216\\1054987319.py\u001b[0m in \u001b[0;36m<module>\u001b[1;34m\u001b[0m\n\u001b[0;32m      1\u001b[0m \u001b[0mX\u001b[0m \u001b[1;33m=\u001b[0m \u001b[0mdata\u001b[0m\u001b[1;33m[\u001b[0m\u001b[1;34m'x'\u001b[0m\u001b[1;33m]\u001b[0m\u001b[1;33m.\u001b[0m\u001b[0mvalues\u001b[0m\u001b[1;33m\u001b[0m\u001b[1;33m\u001b[0m\u001b[0m\n\u001b[1;32m----> 2\u001b[1;33m \u001b[0mX\u001b[0m\u001b[1;33m.\u001b[0m\u001b[0mreshape\u001b[0m\u001b[1;33m(\u001b[0m\u001b[1;33m)\u001b[0m\u001b[1;33m\u001b[0m\u001b[1;33m\u001b[0m\u001b[0m\n\u001b[0m",
      "\u001b[1;31mTypeError\u001b[0m: reshape() takes exactly 1 argument (0 given)"
     ]
    }
   ],
   "source": [
    "X = data['x'].valu"
   ]
  },
  {
   "cell_type": "code",
   "execution_count": 27,
   "id": "52d77c7b",
   "metadata": {},
   "outputs": [],
   "source": [
    "X = X.reshape(-1,1)"
   ]
  },
  {
   "cell_type": "code",
   "execution_count": 29,
   "id": "1ad4e5ff",
   "metadata": {},
   "outputs": [],
   "source": [
    "X = sc.fit_transform(X)"
   ]
  },
  {
   "cell_type": "code",
   "execution_count": 23,
   "id": "6650f7aa",
   "metadata": {},
   "outputs": [
    {
     "data": {
      "text/plain": [
       "array([ 79.77515201,  23.17727887,  25.60926156,  17.85738813,\n",
       "        41.84986439,   9.80523488,  58.87465933,  97.61793701,\n",
       "        18.39512747,   8.74674765,   2.81141583,  17.09537241,\n",
       "        95.14907176,  61.38800663,  40.24701716,  14.82248589,\n",
       "        66.95806869,  16.63507984,  90.65513736,  77.22982636,\n",
       "        92.11906278,  46.91387709,  89.82634442,  21.71380347,\n",
       "        97.41206981,  57.01631363,  78.31056542,  19.1315097 ,\n",
       "        93.03483388,  26.59112396,  97.55155344,  31.43524822,\n",
       "        35.12724777,  78.61042432,  33.07112825,  51.69967172,\n",
       "        53.62235225,  69.46306072,  27.42497237,  36.34644189,\n",
       "        95.06140858,  68.16724757,  50.96155532,  78.04237454,\n",
       "         5.60766487,  36.11334779,  67.2352155 ,  65.01324035,\n",
       "        38.14753871,  34.31141446,  95.28503937,  87.84749912,\n",
       "        54.08170635,  31.93063515,  59.61247085,  -1.04011421,\n",
       "        47.49374765,  62.60089773,  70.9146434 ,  56.14834113,\n",
       "        14.05572877,  68.11367147,  75.59701346,  59.225745  ,\n",
       "        85.45504157,  17.76197116,  38.68888682,  50.96343637,\n",
       "        51.83503872,  17.0761107 ,  46.56141773,  10.34754461,\n",
       "        77.91032969,  50.17008622,  13.25690647,  31.32274932,\n",
       "        73.9308764 ,  74.45114379,  52.01932286,  83.68820499,\n",
       "        70.3698748 ,  23.44479161,  49.83051801,  49.88226593,\n",
       "        41.04525583,  33.37834391,  81.29750133, 105.5918375 ,\n",
       "        56.82457013,  48.67252645,  67.02150613,  38.43076389,\n",
       "        58.61466887,  89.12377509,  60.9105427 ,  13.83959878,\n",
       "        16.89085185,  84.06676818,  70.34969772,  33.38474138,\n",
       "        -1.63296825,  88.54475895,  17.44047622,  75.69298554,\n",
       "        41.97607107,  12.59244741,   0.27530726,  98.13258005,\n",
       "        87.45721555,  -2.34473854,  39.3294153 ,  16.68715211,\n",
       "        96.58888601,  97.70342201,  67.01715955,  25.63476257,\n",
       "        13.41310757,  95.15647284,   9.74416426,  -3.46788379,\n",
       "        62.82816355,  97.27405461,  95.58017185,   7.46850184,\n",
       "        45.44599591,  46.69013968,  74.4993599 ,  21.63500655,\n",
       "        91.59548851,  26.49487961,  67.38654703,  74.25362837,\n",
       "        12.07991648,  21.32273728,  29.31770045,  26.48713683,\n",
       "        68.94699774,  59.10598995,  64.37521087,  60.20758349,\n",
       "        70.34329706,  97.1082562 ,  75.7584178 ,  10.80462727,\n",
       "        12.11219941,  63.28312382,  98.03017721,  63.19354354,\n",
       "        34.8534823 ,  -2.81991397,  59.8313966 ,  29.38505024,\n",
       "        97.00148372,  85.18657275,  61.74063192,  18.84798163,\n",
       "        78.79008525,  95.12400481,  30.48881287,  10.41468095,\n",
       "        38.98317436,  46.11021062,  52.45103628,  21.16523945,\n",
       "        52.28620611,  44.18863945,  97.13832018,  67.22008001,\n",
       "        18.98322306,  24.3884599 ,  79.44769523,  40.03504862,\n",
       "        53.32005764,  54.55446979,  -2.7611826 ,  37.80182795,\n",
       "        57.48741435,  36.06292994,  49.83538167,  74.68953276,\n",
       "        14.86159401, 101.0697879 ,  99.43577876,  91.69240746,\n",
       "        34.12473248,   6.07939007,  59.07247174,  56.43046022,\n",
       "        30.49412933,  48.35172635,  89.73153611,  72.86282528,\n",
       "        80.97144285,  91.36566374,  60.07137496,  99.87382707,\n",
       "         8.65571417,  69.39858505,  19.38780134,  53.11628433,\n",
       "        78.39683006,  25.75612514,  75.07484683,  92.88772282,\n",
       "        69.45498498,  13.12109842,  48.09843134,  79.3142548 ,\n",
       "        68.48820749,  73.2300846 ,  24.68362712,  41.90368917,\n",
       "        62.22635684,  45.96396877,  23.52647153,  51.80035866,\n",
       "        51.10774273,  95.79747345,   9.24113898,   7.64652976,\n",
       "         9.28169975, 103.5266162 ,  47.41006725,  42.03835773,\n",
       "        96.11982476,  38.05766408, 105.4503788 ,  88.80306911,\n",
       "        15.49301141,  12.42624606,  40.00709598,   5.6340309 ,\n",
       "        87.36938931,  89.73951993,  66.61499643,  72.9138853 ,\n",
       "        57.19103506,  11.21710477,   0.67607675,  28.15668543,\n",
       "        95.3958003 ,  52.05490703,  59.70864577,  36.79224762,\n",
       "        37.08457698,  24.18437976,  67.28725332,  82.870594  ,\n",
       "        89.899991  ,  36.94173178,  19.87562242,  90.71481654,\n",
       "        61.09367762,  60.11134958,  64.83296316,  81.40381769,\n",
       "        92.40217686,   2.57662538,  63.80768172,  38.67780759,\n",
       "        16.82839701,  99.78687252,  44.68913433,  71.00377824,\n",
       "        51.57326718,  19.87846479,  79.50341495,  34.58876491,\n",
       "        55.7383467 ,  68.19721905,  55.81628509,   9.3914168 ,\n",
       "        56.01448111,  77.9969477 ,  55.37049953,  11.89457829,\n",
       "        94.79081712,  25.69041546,  53.52042319,  18.31396758,\n",
       "        21.42637785,  30.41303282,  67.68142149,  17.0854783 ,\n",
       "        60.91792707,  14.99514319,  16.74923937,  41.46923883,\n",
       "        42.84526108,  59.12912974,  91.30863673,   8.67333636,\n",
       "        39.31485292,   5.3136862 ,   5.40522052,  68.5458879 ,\n",
       "        47.33487629,  54.09063686,  63.29717058,  52.45946688])"
      ]
     },
     "execution_count": 23,
     "metadata": {},
     "output_type": "execute_result"
    }
   ],
   "source": [
    "Y = data['y'].values\n",
    "Y"
   ]
  },
  {
   "cell_type": "code",
   "execution_count": 14,
   "id": "2ce32a96",
   "metadata": {},
   "outputs": [],
   "source": [
    "from sklearn.preprocessing import StandardScaler\n",
    "sc = StandardScaler"
   ]
  },
  {
   "cell_type": "code",
   "execution_count": 50,
   "id": "53812fd5",
   "metadata": {},
   "outputs": [],
   "source": [
    "from sklearn.model_selection import train_test_split\n",
    "X_train, X_test, y_train, y_test = train_test_split(X, Y, test_size = 0.3)"
   ]
  },
  {
   "cell_type": "code",
   "execution_count": 31,
   "id": "f35ff193",
   "metadata": {},
   "outputs": [
    {
     "data": {
      "text/plain": [
       "array([ 31,  98,  89,  53,  21,  21,  60, 100,  59,  56,  95,   7,  44,\n",
       "        84,  14,  66,   5,  90,  63,  63,  64,  12,  35,  96,  18,  23,\n",
       "        99,  58,  16,  40,  97,  78,  58,  14,  45,  65,  55, 100,  99,\n",
       "        28,   1,  31,  27,  72,  31,  37,  94,  19,   8,  90,  72,  80,\n",
       "        46,   0,  50,  16,  32,  67,  88,  30,  73,  20,  64,  11,   1,\n",
       "        92,  20,  56,   0,  42,  37,   8,  74,   6,  73,  97,  51,  76,\n",
       "        19,  43,  32,  81,  61,  28,  53,  13,  67,  25,  59,  87,   4,\n",
       "        55,  59,  94,  58,  73,  55,  39,  87,  72,  47,  23,  21,  61,\n",
       "        12,  37,   4,  33,  56,  43,   2,  36,  77,  17,  57,  95,  62,\n",
       "        54,  93,  36,  28,  93,  72,  70,  32,  68,  15,  89,  14,  28,\n",
       "        99,  90,  47,  13,  77,  89,  97,  91,  28,  59,  13,  39,  41,\n",
       "        66,  44,  27,  22,  92,  21,  82,  16,  60,  46,  33,  82,  92,\n",
       "        77,  82,  15,  57,  56,  36,  15,  51,  79,  52,  93,  46,  49,\n",
       "         4,  40,   5,  96,  20,  23,  55, 100,  81,  12,  91,  75,  21,\n",
       "        42,  60,  69,  46,  38,  37,  88,  89,  63,  24,  55,   4,  61,\n",
       "        19,  12,  19,   2,  39,   6,  78,  91,  47,  29,  62,  56,  89,\n",
       "        43,  66], dtype=int64)"
      ]
     },
     "execution_count": 31,
     "metadata": {},
     "output_type": "execute_result"
    }
   ],
   "source": [
    "X_train"
   ]
  },
  {
   "cell_type": "code",
   "execution_count": 32,
   "id": "244eec9e",
   "metadata": {},
   "outputs": [
    {
     "data": {
      "text/plain": [
       "array([ 24.18437976,  95.58017185,  89.82634442,  53.62235225,\n",
       "        23.17727887,  19.87562242,  59.8313966 ,  99.78687252,\n",
       "        59.10598995,  49.83051801,  97.61793701,   9.28169975,\n",
       "        45.96396877,  85.18657275,  15.49301141,  67.22008001,\n",
       "         0.67607675,  89.899991  ,  61.74063192,  63.28312382,\n",
       "        67.38654703,   7.46850184,  34.8534823 ,  97.27405461,\n",
       "        17.76197116,  18.31396758,  97.55155344,  53.52042319,\n",
       "        16.68715211,  41.04525583, 101.0697879 ,  78.39683006,\n",
       "        57.01631363,  13.83959878,  44.68913433,  66.61499643,\n",
       "        54.09063686, 105.5918375 ,  99.87382707,  28.15668543,\n",
       "         0.27530726,  31.93063515,  30.49412933,  74.68953276,\n",
       "        31.43524822,  40.03504862,  96.58888601,  17.09537241,\n",
       "         5.40522052,  98.13258005,  68.11367147,  79.44769523,\n",
       "        52.05490703,  -2.34473854,  50.96155532,  16.82839701,\n",
       "        37.80182795,  67.02150613,  87.36938931,  26.48713683,\n",
       "        75.7584178 ,  21.63500655,  62.60089773,   8.67333636,\n",
       "         5.3136862 ,  95.3958003 ,  19.87846479,  54.55446979,\n",
       "        -1.04011421,  42.03835773,  40.00709598,   9.3914168 ,\n",
       "        75.07484683,   2.57662538,  72.86282528,  97.41206981,\n",
       "        46.91387709,  78.04237454,  17.44047622,  42.84526108,\n",
       "        33.38474138,  78.79008525,  59.12912974,  33.07112825,\n",
       "        50.17008622,  10.34754461,  63.80768172,  21.32273728,\n",
       "        60.91792707,  90.65513736,   8.65571417,  51.83503872,\n",
       "        62.22635684,  97.00148372,  57.48741435,  71.00377824,\n",
       "        55.7383467 ,  36.79224762,  84.06676818,  77.9969477 ,\n",
       "        52.45946688,  23.52647153,  16.89085185,  59.225745  ,\n",
       "        12.59244741,  36.11334779,   6.07939007,  30.48881287,\n",
       "        56.01448111,  48.67252645,  -2.81991397,  41.84986439,\n",
       "        79.3142548 ,  14.86159401,  53.11628433,  90.71481654,\n",
       "        61.38800663,  59.70864577,  95.12400481,  38.67780759,\n",
       "        29.31770045,  99.43577876,  69.39858505,  67.2352155 ,\n",
       "        29.38505024,  67.28725332,  14.82248589,  92.40217686,\n",
       "        16.63507984,  31.32274932,  98.03017721,  95.15647284,\n",
       "        46.69013968,   9.74416426,  80.97144285,  87.45721555,\n",
       "        97.70342201,  91.36566374,  27.42497237,  56.82457013,\n",
       "        13.12109842,  47.49374765,  45.44599591,  69.45498498,\n",
       "        37.08457698,  21.71380347,  18.84798163,  89.73153611,\n",
       "        19.1315097 ,  81.29750133,  11.21710477,  60.9105427 ,\n",
       "        48.35172635,  35.12724777,  85.45504157,  91.30863673,\n",
       "        79.77515201,  88.54475895,  13.25690647,  56.14834113,\n",
       "        61.09367762,  40.24701716,   9.80523488,  56.43046022,\n",
       "        77.91032969,  52.01932286,  93.03483388,  47.33487629,\n",
       "        52.28620611,   5.60766487,  38.14753871,   8.74674765,\n",
       "        94.79081712,  18.39512747,  25.69041546,  51.10774273,\n",
       "       103.5266162 ,  73.9308764 ,  12.07991648,  95.06140858,\n",
       "        74.25362837,  17.0854783 ,  41.97607107,  63.19354354,\n",
       "        69.46306072,  46.11021062,  38.43076389,  34.12473248,\n",
       "        87.84749912,  91.59548851,  58.61466887,  25.63476257,\n",
       "        51.80035866,   7.64652976,  60.07137496,  19.38780134,\n",
       "        12.11219941,  14.99514319,  -1.63296825,  38.05766408,\n",
       "        11.89457829,  74.4993599 ,  89.73951993,  51.69967172,\n",
       "        26.49487961,  58.87465933,  57.19103506,  92.11906278,\n",
       "        44.18863945,  67.01715955])"
      ]
     },
     "execution_count": 32,
     "metadata": {},
     "output_type": "execute_result"
    }
   ],
   "source": [
    "y_train"
   ]
  },
  {
   "cell_type": "code",
   "execution_count": 48,
   "id": "9880ade7",
   "metadata": {},
   "outputs": [],
   "source": [
    "X = X.reshape(-1,1)"
   ]
  },
  {
   "cell_type": "code",
   "execution_count": 67,
   "id": "415606eb",
   "metadata": {},
   "outputs": [],
   "source": [
    "Y = Y.reshape(-1,1)\n"
   ]
  },
  {
   "cell_type": "code",
   "execution_count": 76,
   "id": "e4c444de",
   "metadata": {},
   "outputs": [
    {
     "data": {
      "text/plain": [
       "<matplotlib.collections.PathCollection at 0x1f3cfd92370>"
      ]
     },
     "execution_count": 76,
     "metadata": {},
     "output_type": "execute_result"
    },
    {
     "data": {
      "image/png": "[encoded data removed]",
      "text/plain": [
       "<Figure size 640x480 with 1 Axes>"
      ]
     },
     "metadata": {},
     "output_type": "display_data"
    }
   ],
   "source": [
    "plt.scatter(X_test, y_test)"
   ]
  },
  {
   "cell_type": "code",
   "execution_count": 81,
   "id": "5fa7afbc",
   "metadata": {},
   "outputs": [
    {
     "data": {
      "text/plain": [
       "Text(0.5, 1.0, 'HP vs. MPG (Testing Set)')"
      ]
     },
     "execution_count": 81,
     "metadata": {},
     "output_type": "execute_result"
    },
    {
     "data": {
      "image/png": "[encoded data removed]",
      "text/plain": [
       "<Figure size 640x480 with 1 Axes>"
      ]
     },
     "metadata": {},
     "output_type": "display_data"
    }
   ],
   "source": [
    "plt.scatter(y_test, Y_pred,color='g')\n",
    "plt.xlabel('y_test',color='r')\n",
    "plt.ylabel('Y_pred',color='g')\n",
    "plt.title('HP vs. MPG (Testing Set)')"
   ]
  },
  {
   "cell_type": "code",
   "execution_count": null,
   "id": "cb1b6388",
   "metadata": {},
   "outputs": [],
   "source": []
  },
  {
   "cell_type": "code",
   "execution_count": null,
   "id": "5a2a72fd",
   "metadata": {},
   "outputs": [],
   "source": []
  },
  {
   "cell_type": "code",
   "execution_count": null,
   "id": "a24a106d",
   "metadata": {},
   "outputs": [],
   "source": []
  },
  {
   "cell_type": "markdown",
   "id": "7238a918",
   "metadata": {},
   "source": [
    "## model"
   ]
  },
  {
   "cell_type": "code",
   "execution_count": 51,
   "id": "84c4d169",
   "metadata": {},
   "outputs": [],
   "source": [
    "from sklearn.linear_model import LinearRegression\n",
    "model= LinearRegression(\n",
    "    fit_intercept=True,\n",
    "    normalize='deprecated',\n",
    "    copy_X=True,\n",
    "    n_jobs=None,\n",
    "    positive=False,\n",
    ")"
   ]
  },
  {
   "cell_type": "code",
   "execution_count": 52,
   "id": "c56c867e",
   "metadata": {},
   "outputs": [
    {
     "data": {
      "text/plain": [
       "LinearRegression()"
      ]
     },
     "execution_count": 52,
     "metadata": {},
     "output_type": "execute_result"
    }
   ],
   "source": [
    "model.fit(X_train,y_train)"
   ]
  },
  {
   "cell_type": "code",
   "execution_count": 54,
   "id": "a274ac72",
   "metadata": {},
   "outputs": [],
   "source": [
    "Y_pred = model.predict(X_test)"
   ]
  },
  {
   "cell_type": "markdown",
   "id": "93ce1a36",
   "metadata": {},
   "source": [
    "## model evaluation"
   ]
  },
  {
   "cell_type": "code",
   "execution_count": 55,
   "id": "5cdfcad3",
   "metadata": {},
   "outputs": [],
   "source": [
    "from sklearn.metrics import r2_score ,roc_curve"
   ]
  },
  {
   "cell_type": "code",
   "execution_count": 57,
   "id": "054d8dd0",
   "metadata": {},
   "outputs": [
    {
     "data": {
      "text/plain": [
       "0.9884831756308393"
      ]
     },
     "execution_count": 57,
     "metadata": {},
     "output_type": "execute_result"
    }
   ],
   "source": [
    "r2_score(Y_pred,y_test)"
   ]
  },
  {
   "cell_type": "code",
   "execution_count": 66,
   "id": "1775a408",
   "metadata": {},
   "outputs": [
    {
     "data": {
      "text/plain": [
       "0.9890401088186711"
      ]
     },
     "execution_count": 66,
     "metadata": {},
     "output_type": "execute_result"
    }
   ],
   "source": [
    "model.score(X,Y)"
   ]
  },
  {
   "cell_type": "code",
   "execution_count": 58,
   "id": "efe342e5",
   "metadata": {},
   "outputs": [
    {
     "data": {
      "text/html": [
       "<div>\n",
       "<style scoped>\n",
       "    .dataframe tbody tr th:only-of-type {\n",
       "        vertical-align: middle;\n",
       "    }\n",
       "\n",
       "    .dataframe tbody tr th {\n",
       "        vertical-align: top;\n",
       "    }\n",
       "\n",
       "    .dataframe thead th {\n",
       "        text-align: right;\n",
       "    }\n",
       "</style>\n",
       "<table border=\"1\" class=\"dataframe\">\n",
       "  <thead>\n",
       "    <tr style=\"text-align: right;\">\n",
       "      <th></th>\n",
       "      <th>x</th>\n",
       "      <th>y</th>\n",
       "    </tr>\n",
       "  </thead>\n",
       "  <tbody>\n",
       "    <tr>\n",
       "      <th>0</th>\n",
       "      <td>77</td>\n",
       "      <td>79.775152</td>\n",
       "    </tr>\n",
       "    <tr>\n",
       "      <th>1</th>\n",
       "      <td>21</td>\n",
       "      <td>23.177279</td>\n",
       "    </tr>\n",
       "    <tr>\n",
       "      <th>2</th>\n",
       "      <td>22</td>\n",
       "      <td>25.609262</td>\n",
       "    </tr>\n",
       "    <tr>\n",
       "      <th>3</th>\n",
       "      <td>20</td>\n",
       "      <td>17.857388</td>\n",
       "    </tr>\n",
       "    <tr>\n",
       "      <th>4</th>\n",
       "      <td>36</td>\n",
       "      <td>41.849864</td>\n",
       "    </tr>\n",
       "  </tbody>\n",
       "</table>\n",
       "</div>"
      ],
      "text/plain": [
       "    x          y\n",
       "0  77  79.775152\n",
       "1  21  23.177279\n",
       "2  22  25.609262\n",
       "3  20  17.857388\n",
       "4  36  41.849864"
      ]
     },
     "execution_count": 58,
     "metadata": {},
     "output_type": "execute_result"
    }
   ],
   "source": [
    "data.head()"
   ]
  },
  {
   "cell_type": "code",
   "execution_count": 65,
   "id": "0a10becc",
   "metadata": {},
   "outputs": [
    {
     "data": {
      "text/plain": [
       "array([[1.00550849]])"
      ]
     },
     "execution_count": 65,
     "metadata": {},
     "output_type": "execute_result"
    }
   ],
   "source": [
    "model.coef_                # b "
   ]
  },
  {
   "cell_type": "code",
   "execution_count": 63,
   "id": "40a63ad9",
   "metadata": {},
   "outputs": [
    {
     "data": {
      "text/plain": [
       "array([0.05492661])"
      ]
     },
     "execution_count": 63,
     "metadata": {},
     "output_type": "execute_result"
    }
   ],
   "source": [
    "model.intercept_           #slop m"
   ]
  },
  {
   "cell_type": "markdown",
   "id": "f13b3881",
   "metadata": {},
   "source": []
  },
  {
   "cell_type": "code",
   "execution_count": 64,
   "id": "60b8fe9f",
   "metadata": {},
   "outputs": [
    {
     "data": {
      "text/plain": [
       "array([[50.33035106]])"
      ]
     },
     "execution_count": 64,
     "metadata": {},
     "output_type": "execute_result"
    }
   ],
   "source": [
    "model.predict([[50]])"
   ]
  },
  {
   "cell_type": "code",
   "execution_count": null,
   "id": "5af59cec",
   "metadata": {},
   "outputs": [],
   "source": []
  },
  {
   "cell_type": "code",
   "execution_count": null,
   "id": "f4bcd48b",
   "metadata": {},
   "outputs": [],
   "source": []
  },
  {
   "cell_type": "code",
   "execution_count": null,
   "id": "09039ac8",
   "metadata": {},
   "outputs": [],
   "source": []
  }
 ],
 "metadata": {
  "kernelspec": {
   "display_name": "Python 3 (ipykernel)",
   "language": "python",
   "name": "python3"
  },
  "language_info": {
   "codemirror_mode": {
    "name": "ipython",
    "version": 3
   },
   "file_extension": ".py",
   "mimetype": "text/x-python",
   "name": "python",
   "nbconvert_exporter": "python",
   "pygments_lexer": "ipython3",
   "version": "3.9.13"
  }
 },
 "nbformat": 4,
 "nbformat_minor": 5
}
